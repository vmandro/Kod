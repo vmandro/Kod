{
 "cells": [
  {
   "cell_type": "code",
   "execution_count": 1,
   "metadata": {
    "collapsed": true,
    "ExecuteTime": {
     "end_time": "2023-08-28T08:30:29.181602400Z",
     "start_time": "2023-08-28T08:30:28.995158700Z"
    }
   },
   "outputs": [
    {
     "name": "stdout",
     "output_type": "stream",
     "text": [
      "Hello World!\r\n"
     ]
    }
   ],
   "source": [
    "val hello = \"Hello\"\n",
    "println(\"$hello World!\")"
   ]
  },
  {
   "cell_type": "code",
   "execution_count": 8,
   "outputs": [
    {
     "name": "stdout",
     "output_type": "stream",
     "text": [
      "465552665536326464413\r\n",
      "10\t\r\n",
      "11\t\r\n",
      "12\t\r\n",
      "13\t\r\n",
      "14\t\r\n",
      "15\t\r\n",
      "16\t\r\n",
      "17\t*\r\n",
      "18\t\r\n",
      "19\t**\r\n",
      "20\t*\r\n",
      "21\t****\r\n",
      "22\t*****\r\n",
      "23\t********\r\n",
      "24\t***********\r\n",
      "25\t*******************\r\n",
      "26\t********************\r\n",
      "27\t**********************\r\n",
      "28\t****************************\r\n",
      "29\t*****************************************\r\n",
      "30\t**********************************************\r\n",
      "31\t**************************************************\r\n",
      "32\t**********************************************************************\r\n",
      "33\t***************************************************************************\r\n",
      "34\t***********************************************************\r\n",
      "35\t***********************************************************************\r\n",
      "36\t****************************************************************************\r\n",
      "37\t*******************************************************************\r\n",
      "38\t******************************************************************\r\n",
      "39\t*************************************************************\r\n",
      "40\t***********************************************\r\n",
      "41\t**********************\r\n",
      "42\t***************************\r\n",
      "43\t******************************\r\n",
      "44\t**************\r\n",
      "45\t*******************\r\n",
      "46\t***************\r\n",
      "47\t***********\r\n",
      "48\t*****\r\n",
      "49\t*\r\n",
      "50\t***\r\n",
      "51\t**\r\n",
      "52\t\r\n",
      "53\t*\r\n",
      "54\t\r\n",
      "55\t\r\n",
      "56\t\r\n",
      "57\t\r\n",
      "58\t\r\n",
      "59\t\r\n",
      "60\t\r\n"
     ]
    }
   ],
   "source": [
    "val N = 10\n",
    "val M = 1000\n",
    "//val x = \"122333...666\"\n",
    "val x = (1..6).map { \"$it\".repeat(it)}.joinToString ( separator = \"\" )\n",
    "println(x.toList().shuffled().joinToString (separator = \"\"))\n",
    "val m = emptyMap<Int, Int>().toMutableMap()\n",
    "repeat (M) {\n",
    "  val s = (1..N).map { (1..6).random()}.sum()\n",
    "  m.putIfAbsent(s, 0)\n",
    "  m.computeIfPresent(s, { _, v -> v+1})\n",
    "}\n",
    "(N..6*N).forEach {\n",
    "    println(\"$it\\t${\"*\".repeat(m[it]?:0)}\")\n",
    "}"
   ],
   "metadata": {
    "collapsed": false,
    "ExecuteTime": {
     "end_time": "2023-09-27T14:45:38.510448700Z",
     "start_time": "2023-09-27T14:45:38.137372100Z"
    }
   }
  },
  {
   "cell_type": "code",
   "execution_count": 12,
   "outputs": [
    {
     "data": {
      "text/plain": "1589"
     },
     "execution_count": 12,
     "metadata": {},
     "output_type": "execute_result"
    }
   ],
   "source": [
    "import java.io.File\n",
    "\n",
    "fun increment(a : List<Int>) = (a zip (a.drop(1))).count { it.first < it.second }\n",
    "fun add(a: List<Int>, b:List<Int>) = (a zip b).map { it.first + it.second }\n",
    "fun add3(a: List<Int>, b:List<Int>, c:List<Int>) = add(add(a,b),c)\n",
    "\n",
    "//add3(listOf(1,2,3), listOf(3,4,5), listOf(10,11))\n",
    "val l = File(\"D:\\\\borovan\\\\VMA\\\\VMA\\\\Kod\\\\01\\\\day01.txt\").readLines().map { it.toInt() }\n",
    "increment(add3(l,l.drop(1), l.drop(2)))"
   ],
   "metadata": {
    "collapsed": false,
    "ExecuteTime": {
     "end_time": "2023-09-27T14:52:39.786809800Z",
     "start_time": "2023-09-27T14:52:39.542651400Z"
    }
   }
  },
  {
   "cell_type": "code",
   "execution_count": 27,
   "outputs": [
    {
     "name": "stdout",
     "output_type": "stream",
     "text": [
      "122333444455555666666\r\n",
      "10\t\r\n",
      "11\t\r\n",
      "12\t\r\n",
      "13\t\r\n",
      "14\t\r\n",
      "15\t\r\n",
      "16\t\r\n",
      "17\t\r\n",
      "18\t\r\n",
      "19\t\r\n",
      "20\t\r\n",
      "21\t\r\n",
      "22\t\r\n",
      "23\t\r\n",
      "24\t\r\n",
      "25\t\r\n",
      "26\t\r\n",
      "27\t\r\n",
      "28\t\r\n",
      "29\t\r\n",
      "30\t\r\n",
      "31\t\r\n",
      "32\t****\r\n",
      "33\t***\r\n",
      "34\t********\r\n",
      "35\t**********\r\n",
      "36\t************\r\n",
      "37\t********\r\n",
      "38\t***********************\r\n",
      "39\t****************************\r\n",
      "40\t********************************\r\n",
      "41\t*******************************************\r\n",
      "42\t***************************************\r\n",
      "43\t**************************************************\r\n",
      "44\t****************************************\r\n",
      "45\t***************************************\r\n",
      "46\t**********************************\r\n",
      "47\t****************************\r\n",
      "48\t***************************\r\n",
      "49\t******************************\r\n",
      "50\t*****************\r\n",
      "51\t**********\r\n",
      "52\t*******\r\n",
      "53\t*****\r\n",
      "54\t***\r\n",
      "55\t\r\n",
      "56\t\r\n",
      "57\t\r\n",
      "58\t\r\n",
      "59\t\r\n",
      "60\t\r\n"
     ]
    }
   ],
   "source": [
    "val N = 10\n",
    "val M = 500\n",
    "val kocky = (1..6).map { x -> \"$x\".repeat(x)}.joinToString(separator = \"\")\n",
    "println(kocky)\n",
    "val m = emptyMap<Int, Int>().toMutableMap()\n",
    "repeat(M) {\n",
    "//  val s = (1..N).map {(1..6).random()}.sum()\n",
    "      val s = (1..N)\n",
    "      .map {kocky[(0 until kocky.length).random()].digitToInt()}\n",
    "      .sum()\n",
    "      //val g = kocky.toList().shuffled().joinToString(separator = \"\")\n",
    "  m.putIfAbsent(s, 0)\n",
    "  m.computeIfPresent(s, {_,v -> v+1})\n",
    "}\n",
    "(N..6*N).forEach{\n",
    "    println(\"$it\\t${\"*\".repeat(m[it]?:0)}\")\n",
    "}\n"
   ],
   "metadata": {
    "collapsed": false,
    "ExecuteTime": {
     "end_time": "2023-09-27T16:51:50.110318Z",
     "start_time": "2023-09-27T16:51:49.718241500Z"
    }
   }
  },
  {
   "cell_type": "code",
   "execution_count": 33,
   "outputs": [
    {
     "name": "stdout",
     "output_type": "stream",
     "text": [
      "1548\r\n",
      "1589\r\n"
     ]
    }
   ],
   "source": [
    " fun increase(x : List<Int>) = (x zip x.drop(1))\n",
    "        .count{ it.first < it.second}\n",
    " fun add(x:List<Int>, y:List<Int>) = (x zip y)\n",
    "            .map { (a,b) -> a+b}\n",
    "            //.map { it.first + it.second}\n",
    " // (x zip (x.drop(1)) zip x.drop(2)       \n",
    " val input = File(\"D:\\\\borovan\\\\VMA\\\\VMA\\\\Kod\\\\01\\\\day01.txt\").readLines().map{it.toInt()}\n",
    " println(increase(input))\n",
    " \n",
    " println(\n",
    "     increase(add(add(input, input.drop(1)), input.drop(2)))\n",
    " )"
   ],
   "metadata": {
    "collapsed": false,
    "ExecuteTime": {
     "end_time": "2023-09-27T17:16:07.985580300Z",
     "start_time": "2023-09-27T17:16:07.718750700Z"
    }
   }
  },
  {
   "cell_type": "code",
   "execution_count": 35,
   "outputs": [
    {
     "name": "stdout",
     "output_type": "stream",
     "text": [
      "[1, 1, 1, 1, 1, 1, 1, 1, 1, 1]\r\n"
     ]
    }
   ],
   "source": [
    "//    val collection = (-100..100)\n",
    "//        .filter {it % 2 == 0}\n",
    "//        .map { it * 2 }\n",
    "//        .map { it/it }\n",
    "//        .take(10)\n",
    "//    println(collection)\n",
    "\n",
    "    val sequence = (-100..100).asSequence()\n",
    "        .filter {it % 2 == 0}\n",
    "        .map { it * 2 }\n",
    "        .map { it/it }\n",
    "        .take(10)\n",
    "    println(sequence.toList())"
   ],
   "metadata": {
    "collapsed": false,
    "ExecuteTime": {
     "end_time": "2023-09-27T17:24:42.004990200Z",
     "start_time": "2023-09-27T17:24:41.807841300Z"
    }
   }
  },
  {
   "cell_type": "code",
   "execution_count": 8,
   "outputs": [
    {
     "name": "stdout",
     "output_type": "stream",
     "text": [
      "Osoba(meno=Pavel, priezvisko=Petrovic)\r\n",
      "Osoba(meno=Andrej, priezvisko=Blaho)\r\n",
      "Osoba(meno=Alexander, priezvisko=Simko)\r\n",
      "Osoba(meno=Alexander, priezvisko=Simko)\r\n"
     ]
    }
   ],
   "source": [
    "data class Osoba(var meno:String, var priezvisko: String){}\n",
    "\n",
    "val os = Osoba(\"Peter\", \"Borovansky\")\n",
    "\n",
    "os.meno = \"Pavel\"\n",
    "os.priezvisko = \"Priezvisko\"\n",
    "\n",
    "val x = os.apply {\n",
    "    meno = \"Pavel\"\n",
    "    priezvisko = \"Petrovic\"\n",
    "    println(this)\n",
    "}.also{o ->\n",
    "    o.meno = \"Andrej\"\n",
    "    o.priezvisko = \"Blaho\"\n",
    "    println(o)\n",
    "}.also{\n",
    "    it.meno = \"Alexander\"\n",
    "    it.priezvisko = \"Simko\"\n",
    "    println(it)\n",
    "}\n",
    "println(x)"
   ],
   "metadata": {
    "collapsed": false,
    "ExecuteTime": {
     "end_time": "2023-10-03T11:11:17.855648700Z",
     "start_time": "2023-10-03T11:11:17.577081700Z"
    }
   }
  },
  {
   "cell_type": "code",
   "execution_count": 16,
   "outputs": [
    {
     "data": {
      "text/plain": "[3, 4, null, 6]"
     },
     "execution_count": 16,
     "metadata": {},
     "output_type": "execute_result"
    }
   ],
   "source": [
    "val l = listOf(1,2,null, 4)\n",
    "l.map { it?.let {x -> x+2} }\n",
    "l.map { it?.run { this * 2  }}"
   ],
   "metadata": {
    "collapsed": false,
    "ExecuteTime": {
     "end_time": "2023-10-03T11:16:39.112127300Z",
     "start_time": "2023-10-03T11:16:38.975616800Z"
    }
   }
  },
  {
   "cell_type": "code",
   "execution_count": 13,
   "outputs": [],
   "source": [],
   "metadata": {
    "collapsed": false,
    "ExecuteTime": {
     "end_time": "2023-10-03T11:14:00.106939800Z",
     "start_time": "2023-10-03T11:14:00.063547500Z"
    }
   }
  },
  {
   "cell_type": "code",
   "execution_count": null,
   "outputs": [],
   "source": [],
   "metadata": {
    "collapsed": false
   }
  }
 ],
 "metadata": {
  "kernelspec": {
   "display_name": "Kotlin",
   "language": "kotlin",
   "name": "kotlin"
  },
  "language_info": {
   "name": "kotlin",
   "version": "1.8.20",
   "mimetype": "text/x-kotlin",
   "file_extension": ".kt",
   "pygments_lexer": "kotlin",
   "codemirror_mode": "text/x-kotlin",
   "nbconvert_exporter": ""
  }
 },
 "nbformat": 4,
 "nbformat_minor": 0
}
