{
 "cells": [
  {
   "cell_type": "code",
   "execution_count": 1,
   "metadata": {
    "collapsed": true,
    "ExecuteTime": {
     "end_time": "2023-08-28T08:30:29.181602400Z",
     "start_time": "2023-08-28T08:30:28.995158700Z"
    }
   },
   "outputs": [
    {
     "name": "stdout",
     "output_type": "stream",
     "text": [
      "Hello World!\r\n"
     ]
    }
   ],
   "source": [
    "val hello = \"Hello\"\n",
    "println(\"$hello World!\")"
   ]
  },
  {
   "cell_type": "code",
   "execution_count": 1,
   "outputs": [
    {
     "name": "stdout",
     "output_type": "stream",
     "text": [
      "[1, 2, 3, 4, 5, 6, 7, 8, 9, 10]\r\n"
     ]
    }
   ],
   "source": [
    "val xx = 1..10\n",
    "println(xx.toList())"
   ],
   "metadata": {
    "collapsed": false,
    "ExecuteTime": {
     "end_time": "2023-09-26T14:51:46.358071400Z",
     "start_time": "2023-09-26T14:51:46.049203700Z"
    }
   }
  },
  {
   "cell_type": "code",
   "execution_count": null,
   "outputs": [],
   "source": [],
   "metadata": {
    "collapsed": false
   }
  },
  {
   "cell_type": "code",
   "execution_count": 3,
   "outputs": [
    {
     "name": "stdout",
     "output_type": "stream",
     "text": [
      "1\r\n",
      "2\r\n",
      "3\r\n",
      "4\r\n",
      "5\r\n",
      "6\r\n",
      "7\r\n",
      "8\r\n",
      "9\r\n",
      "10\r\n",
      "a\r\n",
      "b\r\n",
      "c\r\n",
      "d\r\n",
      "e\r\n",
      "f\r\n",
      "g\r\n",
      "h\r\n",
      "i\r\n",
      "j\r\n",
      "k\r\n",
      "l\r\n",
      "m\r\n",
      "n\r\n",
      "o\r\n",
      "p\r\n",
      "q\r\n",
      "r\r\n",
      "s\r\n",
      "t\r\n",
      "u\r\n",
      "v\r\n",
      "w\r\n",
      "x\r\n",
      "y\r\n",
      "z\r\n"
     ]
    }
   ],
   "source": [
    "for (x in 1..10) println(x)\n",
    "for (x in 'a'..'z') println(x)"
   ],
   "metadata": {
    "collapsed": false,
    "ExecuteTime": {
     "end_time": "2023-08-28T08:31:44.897824Z",
     "start_time": "2023-08-28T08:31:44.721384900Z"
    }
   }
  },
  {
   "cell_type": "code",
   "execution_count": 1,
   "outputs": [
    {
     "name": "stdout",
     "output_type": "stream",
     "text": [
      "[17, 2, 3, 19, 5, 7, 11, 13]\r\n",
      "class java.util.HashSet\r\n",
      "[-1, 0, 1]\r\n",
      "class java.util.ArrayList\r\n",
      "{kral=13, eso=15, sedma=7, osma=8, dolnik=11, hornik=12}\r\n",
      "class java.util.HashMap\r\n",
      "-1 17 kral 13\r\n",
      "-1 17 eso 15\r\n",
      "-1 17 sedma 7\r\n",
      "-1 17 osma 8\r\n",
      "-1 17 dolnik 11\r\n",
      "-1 17 hornik 12\r\n",
      "-1 2 kral 13\r\n",
      "-1 2 eso 15\r\n",
      "-1 2 sedma 7\r\n",
      "-1 2 osma 8\r\n",
      "-1 2 dolnik 11\r\n",
      "-1 2 hornik 12\r\n",
      "-1 3 kral 13\r\n",
      "-1 3 eso 15\r\n",
      "-1 3 sedma 7\r\n",
      "-1 3 osma 8\r\n",
      "-1 3 dolnik 11\r\n",
      "-1 3 hornik 12\r\n",
      "-1 19 kral 13\r\n",
      "-1 19 eso 15\r\n",
      "-1 19 sedma 7\r\n",
      "-1 19 osma 8\r\n",
      "-1 19 dolnik 11\r\n",
      "-1 19 hornik 12\r\n",
      "-1 5 kral 13\r\n",
      "-1 5 eso 15\r\n",
      "-1 5 sedma 7\r\n",
      "-1 5 osma 8\r\n",
      "-1 5 dolnik 11\r\n",
      "-1 5 hornik 12\r\n",
      "-1 7 kral 13\r\n",
      "-1 7 eso 15\r\n",
      "-1 7 sedma 7\r\n",
      "-1 7 osma 8\r\n",
      "-1 7 dolnik 11\r\n",
      "-1 7 hornik 12\r\n",
      "-1 11 kral 13\r\n",
      "-1 11 eso 15\r\n",
      "-1 11 sedma 7\r\n",
      "-1 11 osma 8\r\n",
      "-1 11 dolnik 11\r\n",
      "-1 11 hornik 12\r\n",
      "-1 13 kral 13\r\n",
      "-1 13 eso 15\r\n",
      "-1 13 sedma 7\r\n",
      "-1 13 osma 8\r\n",
      "-1 13 dolnik 11\r\n",
      "-1 13 hornik 12\r\n",
      "0 17 kral 13\r\n",
      "0 17 eso 15\r\n",
      "0 17 sedma 7\r\n",
      "0 17 osma 8\r\n",
      "0 17 dolnik 11\r\n",
      "0 17 hornik 12\r\n",
      "0 2 kral 13\r\n",
      "0 2 eso 15\r\n",
      "0 2 sedma 7\r\n",
      "0 2 osma 8\r\n",
      "0 2 dolnik 11\r\n",
      "0 2 hornik 12\r\n",
      "0 3 kral 13\r\n",
      "0 3 eso 15\r\n",
      "0 3 sedma 7\r\n",
      "0 3 osma 8\r\n",
      "0 3 dolnik 11\r\n",
      "0 3 hornik 12\r\n",
      "0 19 kral 13\r\n",
      "0 19 eso 15\r\n",
      "0 19 sedma 7\r\n",
      "0 19 osma 8\r\n",
      "0 19 dolnik 11\r\n",
      "0 19 hornik 12\r\n",
      "0 5 kral 13\r\n",
      "0 5 eso 15\r\n",
      "0 5 sedma 7\r\n",
      "0 5 osma 8\r\n",
      "0 5 dolnik 11\r\n",
      "0 5 hornik 12\r\n",
      "0 7 kral 13\r\n",
      "0 7 eso 15\r\n",
      "0 7 sedma 7\r\n",
      "0 7 osma 8\r\n",
      "0 7 dolnik 11\r\n",
      "0 7 hornik 12\r\n",
      "0 11 kral 13\r\n",
      "0 11 eso 15\r\n",
      "0 11 sedma 7\r\n",
      "0 11 osma 8\r\n",
      "0 11 dolnik 11\r\n",
      "0 11 hornik 12\r\n",
      "0 13 kral 13\r\n",
      "0 13 eso 15\r\n",
      "0 13 sedma 7\r\n",
      "0 13 osma 8\r\n",
      "0 13 dolnik 11\r\n",
      "0 13 hornik 12\r\n",
      "1 17 kral 13\r\n",
      "1 17 eso 15\r\n",
      "1 17 sedma 7\r\n",
      "1 17 osma 8\r\n",
      "1 17 dolnik 11\r\n",
      "1 17 hornik 12\r\n",
      "1 2 kral 13\r\n",
      "1 2 eso 15\r\n",
      "1 2 sedma 7\r\n",
      "1 2 osma 8\r\n",
      "1 2 dolnik 11\r\n",
      "1 2 hornik 12\r\n",
      "1 3 kral 13\r\n",
      "1 3 eso 15\r\n",
      "1 3 sedma 7\r\n",
      "1 3 osma 8\r\n",
      "1 3 dolnik 11\r\n",
      "1 3 hornik 12\r\n",
      "1 19 kral 13\r\n",
      "1 19 eso 15\r\n",
      "1 19 sedma 7\r\n",
      "1 19 osma 8\r\n",
      "1 19 dolnik 11\r\n",
      "1 19 hornik 12\r\n",
      "1 5 kral 13\r\n",
      "1 5 eso 15\r\n",
      "1 5 sedma 7\r\n",
      "1 5 osma 8\r\n",
      "1 5 dolnik 11\r\n",
      "1 5 hornik 12\r\n",
      "1 7 kral 13\r\n",
      "1 7 eso 15\r\n",
      "1 7 sedma 7\r\n",
      "1 7 osma 8\r\n",
      "1 7 dolnik 11\r\n",
      "1 7 hornik 12\r\n",
      "1 11 kral 13\r\n",
      "1 11 eso 15\r\n",
      "1 11 sedma 7\r\n",
      "1 11 osma 8\r\n",
      "1 11 dolnik 11\r\n",
      "1 11 hornik 12\r\n",
      "1 13 kral 13\r\n",
      "1 13 eso 15\r\n",
      "1 13 sedma 7\r\n",
      "1 13 osma 8\r\n",
      "1 13 dolnik 11\r\n",
      "1 13 hornik 12\r\n"
     ]
    }
   ],
   "source": [
    "val set = hashSetOf(2, 3, 5, 7, 11, 13, 17, 19)\n",
    "val list = arrayListOf(-1, 0, 1)\n",
    "val map = hashMapOf(\"sedma\" to 7, \"osma\" to 8, \"dolnik\" to 11, \n",
    "\t\t\t     \"hornik\" to 12, \"kral\" to 13, \"eso\" to 15)\n",
    "println(set);\tprintln(set.javaClass)\n",
    "println(list);\tprintln(list.javaClass)\n",
    "println(map);\tprintln(map.javaClass)\n",
    "\n",
    "for(x in list)\t\t\t\t\n",
    "    for(y in set)\t\t\t\n",
    "        for((key, value) in map) \t\n",
    "            println(\"$x $y $key $value\")\n"
   ],
   "metadata": {
    "collapsed": false,
    "ExecuteTime": {
     "end_time": "2023-09-19T08:36:38.471848700Z",
     "start_time": "2023-09-19T08:36:37.564819800Z"
    }
   }
  },
  {
   "cell_type": "code",
   "execution_count": 2,
   "outputs": [
    {
     "name": "stdout",
     "output_type": "stream",
     "text": [
      "[1, 1, 1, 1, 1, 1, 1, 1, 1, 1]\r\n"
     ]
    }
   ],
   "source": [
    "    val sequence = (-100..100)\n",
    "        .asSequence()\n",
    "        .filter { it % 2 == 0 }\n",
    "        .map { it * 2 }\n",
    "        .map { it / it }\n",
    "        .take(10)\n",
    "    println(sequence.toList())\n",
    "    "
   ],
   "metadata": {
    "collapsed": false,
    "ExecuteTime": {
     "end_time": "2023-09-19T08:47:21.396769700Z",
     "start_time": "2023-09-19T08:47:21.033341200Z"
    }
   }
  },
  {
   "cell_type": "code",
   "execution_count": 3,
   "outputs": [
    {
     "name": "stderr",
     "output_type": "stream",
     "text": [
      "/ by zero\r\n",
      "java.lang.ArithmeticException: / by zero\r\n",
      "\tat Line_3_jupyter.<init>(Line_3.jupyter.kts:4)\r\n",
      "\tat java.base/jdk.internal.reflect.NativeConstructorAccessorImpl.newInstance0(Native Method)\r\n",
      "\tat java.base/jdk.internal.reflect.NativeConstructorAccessorImpl.newInstance(NativeConstructorAccessorImpl.java:77)\r\n",
      "\tat java.base/jdk.internal.reflect.DelegatingConstructorAccessorImpl.newInstance(DelegatingConstructorAccessorImpl.java:45)\r\n",
      "\tat java.base/java.lang.reflect.Constructor.newInstanceWithCaller(Constructor.java:499)\r\n",
      "\tat java.base/java.lang.reflect.Constructor.newInstance(Constructor.java:480)\r\n",
      "\tat kotlin.script.experimental.jvm.BasicJvmScriptEvaluator.evalWithConfigAndOtherScriptsResults(BasicJvmScriptEvaluator.kt:105)\r\n",
      "\tat kotlin.script.experimental.jvm.BasicJvmScriptEvaluator.invoke$suspendImpl(BasicJvmScriptEvaluator.kt:47)\r\n",
      "\tat kotlin.script.experimental.jvm.BasicJvmScriptEvaluator.invoke(BasicJvmScriptEvaluator.kt)\r\n",
      "\tat kotlin.script.experimental.jvm.BasicJvmReplEvaluator.eval(BasicJvmReplEvaluator.kt:49)\r\n",
      "\tat org.jetbrains.kotlinx.jupyter.repl.impl.InternalEvaluatorImpl$eval$resultWithDiagnostics$1.invokeSuspend(InternalEvaluatorImpl.kt:103)\r\n",
      "\tat kotlin.coroutines.jvm.internal.BaseContinuationImpl.resumeWith(ContinuationImpl.kt:33)\r\n",
      "\tat kotlinx.coroutines.DispatchedTask.run(DispatchedTask.kt:106)\r\n",
      "\tat kotlinx.coroutines.EventLoopImplBase.processNextEvent(EventLoop.common.kt:284)\r\n",
      "\tat kotlinx.coroutines.BlockingCoroutine.joinBlocking(Builders.kt:85)\r\n",
      "\tat kotlinx.coroutines.BuildersKt__BuildersKt.runBlocking(Builders.kt:59)\r\n",
      "\tat kotlinx.coroutines.BuildersKt.runBlocking(Unknown Source)\r\n",
      "\tat kotlinx.coroutines.BuildersKt__BuildersKt.runBlocking$default(Builders.kt:38)\r\n",
      "\tat kotlinx.coroutines.BuildersKt.runBlocking$default(Unknown Source)\r\n",
      "\tat org.jetbrains.kotlinx.jupyter.repl.impl.InternalEvaluatorImpl.eval(InternalEvaluatorImpl.kt:103)\r\n",
      "\tat org.jetbrains.kotlinx.jupyter.repl.impl.CellExecutorImpl$execute$1$result$1.invoke(CellExecutorImpl.kt:75)\r\n",
      "\tat org.jetbrains.kotlinx.jupyter.repl.impl.CellExecutorImpl$execute$1$result$1.invoke(CellExecutorImpl.kt:73)\r\n",
      "\tat org.jetbrains.kotlinx.jupyter.ReplForJupyterImpl.withHost(repl.kt:666)\r\n",
      "\tat org.jetbrains.kotlinx.jupyter.repl.impl.CellExecutorImpl.execute(CellExecutorImpl.kt:73)\r\n",
      "\tat org.jetbrains.kotlinx.jupyter.repl.CellExecutor$DefaultImpls.execute$default(CellExecutor.kt:15)\r\n",
      "\tat org.jetbrains.kotlinx.jupyter.ReplForJupyterImpl$evalEx$1.invoke(repl.kt:479)\r\n",
      "\tat org.jetbrains.kotlinx.jupyter.ReplForJupyterImpl$evalEx$1.invoke(repl.kt:470)\r\n",
      "\tat org.jetbrains.kotlinx.jupyter.ReplForJupyterImpl.withEvalContext(repl.kt:433)\r\n",
      "\tat org.jetbrains.kotlinx.jupyter.ReplForJupyterImpl.evalEx(repl.kt:470)\r\n",
      "\tat org.jetbrains.kotlinx.jupyter.messaging.ProtocolKt$shellMessagesHandler$2$res$1.invoke(protocol.kt:318)\r\n",
      "\tat org.jetbrains.kotlinx.jupyter.messaging.ProtocolKt$shellMessagesHandler$2$res$1.invoke(protocol.kt:312)\r\n",
      "\tat org.jetbrains.kotlinx.jupyter.JupyterExecutorImpl$runExecution$execThread$1.invoke(execution.kt:37)\r\n",
      "\tat org.jetbrains.kotlinx.jupyter.JupyterExecutorImpl$runExecution$execThread$1.invoke(execution.kt:32)\r\n",
      "\tat kotlin.concurrent.ThreadsKt$thread$thread$1.run(Thread.kt:30)\r\n"
     ]
    }
   ],
   "source": [
    "    val collection = (-100..100)\n",
    "        .filter { it % 2 == 0 }\n",
    "        .map { it * 2 }\n",
    "        .map { it / it }\n",
    "        .take(10)\n",
    "    println(collection)"
   ],
   "metadata": {
    "collapsed": false,
    "ExecuteTime": {
     "end_time": "2023-09-19T08:47:46.368309700Z",
     "start_time": "2023-09-19T08:47:46.180809300Z"
    }
   }
  },
  {
   "cell_type": "code",
   "execution_count": 1,
   "outputs": [
    {
     "name": "stdout",
     "output_type": "stream",
     "text": [
      "test 10, 20\r\n"
     ]
    }
   ],
   "source": [
    "val n = 10\n",
    "println(\"test $n, ${n+n}\")"
   ],
   "metadata": {
    "collapsed": false,
    "ExecuteTime": {
     "end_time": "2023-09-26T10:52:55.451945700Z",
     "start_time": "2023-09-26T10:52:55.245755400Z"
    }
   }
  }
 ],
 "metadata": {
  "kernelspec": {
   "display_name": "Kotlin",
   "language": "kotlin",
   "name": "kotlin"
  },
  "language_info": {
   "name": "kotlin",
   "version": "1.8.20",
   "mimetype": "text/x-kotlin",
   "file_extension": ".kt",
   "pygments_lexer": "kotlin",
   "codemirror_mode": "text/x-kotlin",
   "nbconvert_exporter": ""
  }
 },
 "nbformat": 4,
 "nbformat_minor": 0
}
